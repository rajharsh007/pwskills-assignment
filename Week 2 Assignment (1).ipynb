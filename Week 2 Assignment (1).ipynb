{
 "cells": [
  {
   "cell_type": "markdown",
   "id": "f1490315-055d-4758-9496-6daccd1624ab",
   "metadata": {},
   "source": [
    "#### 1. How do you comment code in Python? What are the different types of comments?"
   ]
  },
  {
   "cell_type": "markdown",
   "id": "4493f88f-7d67-43fd-9cad-b6539f879057",
   "metadata": {},
   "source": [
    "Ans: In Python, you can comment your code to add explanatory notes or to disable specific lines of code temporarily. There are two common ways to add comments in Python:\n",
    "\n",
    "1. Single-line comments: To add a comment that spans only one line, you can use the hash character (`#`). Anything after the `#` symbol on the same line will be considered a comment and will be ignored by the Python interpreter. For example:\n",
    "\n",
    "            # This is a single-line comment\n",
    "        print(\"Hello, world!\")  # This is another comment\n",
    "                                                                                                    \n",
    "2. Multi-line comments: To add comments that span multiple lines, you can enclose the text within triple quotes (`'''` or `\"\"\"`). While these are technically string literals, they are commonly used as multi-line comments because they are not assigned to any variable and are effectively ignored. For example:\n",
    "\n",
    "              This is a multi-line comment.\n",
    "              It can span multiple lines.\n",
    "              print(\"Hello, world!\")\n",
    "   "
   ]
  },
  {
   "cell_type": "markdown",
   "id": "03d4dc0c-f602-4a21-b38a-0205db8d12a9",
   "metadata": {},
   "source": [
    "#### 2. What are variables in Python? How do you declare and assign values to variables? "
   ]
  },
  {
   "cell_type": "markdown",
   "id": "d2b06fcc-875e-4428-aacf-b9eb1db77df6",
   "metadata": {},
   "source": [
    "Ans: In python, variables are used to storeand manipulate data. A variable is essentially a name that represents a value or an abject in the computer memory.\n",
    "     To declare and assign a value to a variable in python, we can use following syntax :-\n",
    "                  variable_name= values\n",
    "     Here, variable_name is the name of the variable and value is the date we want to store in the variable. The equal sigh (=) is used to assign value to the variable.\n",
    "     For example :-\n",
    "     \n",
    "            message= 'Hello World'\n",
    "            list= [1,2,3,4,5]"
   ]
  },
  {
   "cell_type": "markdown",
   "id": "9877089c-86a4-4a7f-89de-7294fa5e3a9a",
   "metadata": {},
   "source": [
    "#### 3. How do you convert one data type to another in Python?"
   ]
  },
  {
   "cell_type": "markdown",
   "id": "0599d88b-c0c6-4c04-b0b6-007311028315",
   "metadata": {},
   "source": [
    "Ans: In Python, you can convert one data type to another using type conversion functions or by using the constructor functions of the target data type. Here are some commonly used type conversion functions and constructor functions:\n",
    "\n",
    "1. `int()`: Converts a value to an integer (whole number) data type. \n",
    "            For example:\n",
    "            \n",
    "                    x = int(3.14)  # x will be 3\n",
    "\n",
    "2. `float()`: Converts a value to a floating-point (decimal) data type.\n",
    "              For example: \n",
    "              \n",
    "                      x = float(5)  # x will be 5.0\n",
    "\n",
    "3. `str()`: Converts a value to a string data type. \n",
    "            For example:\n",
    "            \n",
    "                    x = str(10)  # x will be the string '10'.\n",
    "\n",
    "4. `bool()`: Converts a value to a boolean (True/False) data type.\n",
    "             For example:\n",
    "             \n",
    "                     x = bool(1)  # x will be True\n",
    "\n",
    "5. `list()`: Converts an iterable (such as a string, tuple, or range) to a list data type. \n",
    "             For example:-\n",
    "             \n",
    "                     x = list(\"Hello\")  # x will be the list ['H', 'e', 'l', 'l', 'o']\n",
    "\n",
    "6. `tuple()`: Converts an iterable to a tuple data type. \n",
    "              For example:\n",
    "              \n",
    "                      x = tuple([1, 2, 3])  # x will be the tuple (1, 2, 3)\n",
    "\n",
    "7. `set()`: Converts an iterable to a set data type, removing duplicate elements. \n",
    "            For example:\n",
    "            \n",
    "                    x = set([1, 2, 2, 3, 3, 4])  # x will be the set {1, 2, 3, 4}\n",
    "\n",
    "8. `dict()`: Converts an iterable of key-value pairs to a dictionary data type. \n",
    "             For example:\n",
    "             \n",
    "                      x = dict([('a', 1), ('b', 2)])  # x will be the dictionary {'a': 1, 'b': 2}\n",
    " \n",
    "It's important to note that not all type conversions are possible or meaningful. For example, converting a string to an integer would work if the string represents a valid integer, but it would raise an error if the string contains non-numeric characters. Similarly, converting a string to a boolean would result in `True` only if the string is `\"True\"` (case-insensitive), and it would be `False` for any other string value.\n",
    "\n",
    "Before performing a type conversion, it's a good practice to ensure that the value is compatible with the desired data type to avoid potential errors."
   ]
  },
  {
   "cell_type": "markdown",
   "id": "0f4b0b53-4661-4faf-96d3-b37a5f2be848",
   "metadata": {},
   "source": [
    "#### 4. How do you write and execute a Python script from the command line?"
   ]
  },
  {
   "cell_type": "markdown",
   "id": "22192bdf-7c67-4c1e-b504-d5d412fbdcde",
   "metadata": {},
   "source": [
    "Ans: To write and execute a Python script from the command line, you can follow these steps:\n",
    "\n",
    "1. Open a text editor and create a new file. You can use any text editor of your choice, such as Notepad, Sublime Text, or Visual Studio Code.\n",
    "\n",
    "2. Write your Python code in the text editor and save the file with a `.py` extension. For example, you can save it as `script.py`.\n",
    "\n",
    "       print(\"Hello, world!\")\n",
    "\n",
    "3. Open the command line interface on your computer. The method for opening the command line depends on your operating system. For example, on Windows, you can open the Command Prompt or PowerShell, while on macOS and Linux, you can use the Terminal.\n",
    "\n",
    "4. Navigate to the directory where you saved the Python script using the `cd` command. For example, if the script is saved in the \"Documents\" folder, you can use the following command:\n",
    "\n",
    "       cd Documents\n",
    "\n",
    "5. Once you're in the correct directory, you can run the Python script by typing `python` followed by the script's filename:\n",
    "\n",
    "       python script.py \n",
    "   \n",
    "   This command executes the Python interpreter and tells it to run the specified script. In this case, it will execute the `script.py` file, and you should see the output `\"Hello, world!\"` displayed on the command line."
   ]
  },
  {
   "cell_type": "markdown",
   "id": "92bf0c13-748b-4acc-896c-2572ea75af37",
   "metadata": {},
   "source": [
    "#### 5. Given a list my_list = [1, 2, 3, 4, 5], write the code to slice the list and obtain the sub-list [2, 3]."
   ]
  },
  {
   "cell_type": "code",
   "execution_count": 1,
   "id": "7f8f4fee-d128-481e-a7bc-3ff872336334",
   "metadata": {},
   "outputs": [
    {
     "name": "stdout",
     "output_type": "stream",
     "text": [
      "[2, 3]\n"
     ]
    }
   ],
   "source": [
    "my_list = [1, 2, 3, 4, 5]\n",
    "sub_list = my_list[1:3]\n",
    "print(sub_list)"
   ]
  },
  {
   "cell_type": "markdown",
   "id": "98b08777-a82e-4b22-8133-265d2768c0ba",
   "metadata": {},
   "source": [
    "#### 6. What is a complex number in mathematics, and how is it represented in Python?"
   ]
  },
  {
   "cell_type": "markdown",
   "id": "99f92700-4ccc-40ca-92a6-38e3c7216ba7",
   "metadata": {},
   "source": [
    "Ans: In mathematics, a complex number is a number that comprises both a real part and an imaginary part. It is represented in the form `a + bi`, where `a` represents the real part, `b` represents the imaginary part, and `i` represents the imaginary unit (√-1).\n",
    "\n",
    "In Python, complex numbers can be represented using the `complex` data type. The imaginary part is specified using the `j` suffix instead of `i`. The general syntax to represent a complex number in Python is:\n",
    "               a = real_part + imaginary_part * j\n",
    "Here's an example of defining a complex number in Python:\n",
    "                     z = 3 + 2j\n",
    "\n",
    "\n",
    "In this example, `3` is the real part, and `2j` is the imaginary part. The variable `z` now holds the complex number `3 + 2j`.\n",
    "\n",
    "Python provides several built-in functions for working with complex numbers. Some commonly used functions include:\n",
    "\n",
    "- `complex()`: Constructs a complex number from real and imaginary parts. For example:\n",
    "\n",
    "                        z = complex(3, 2)  # z will be 3 + 2j\n",
    "\n",
    "- `abs()`: Returns the absolute value (magnitude) of a complex number. For example:\n",
    "\n",
    "                     z = 3 + 2j\n",
    "                     abs_value = abs(z)  # abs_value will be 3.605551275463989\n",
    "\n",
    "- `real()`: Returns the real part of a complex number. For example:\n",
    "\n",
    "                      z = 3 + 2j\n",
    "                      real_part = z.real  # real_part will be 3.0\n",
    "\n",
    "- `imag()`: Returns the imaginary part of a complex number. For example:\n",
    "\n",
    "                      z = 3 + 2j\n",
    "                      imag_part = z.imag  # imag_part will be 2.0\n",
    "\n",
    "You can perform arithmetic operations on complex numbers in Python, including addition, subtraction, multiplication, and division. Python supports complex arithmetic natively, allowing you to work with complex numbers just like real numbers."
   ]
  },
  {
   "cell_type": "markdown",
   "id": "f724354b-ee1b-4f58-b634-4cf5ed0af7ff",
   "metadata": {},
   "source": [
    "#### 7. What is the correct way to declare a variable named age and assign the value 25 to it?"
   ]
  },
  {
   "cell_type": "markdown",
   "id": "95a015d3-5510-4dd4-b4b2-4f8cb1248d03",
   "metadata": {},
   "source": [
    "Ans: age= 25\n",
    "     In this code, age is the variable name, and 25 is the value assigned to the variable. The equal sign (=) is used to assign the value to the variable"
   ]
  },
  {
   "cell_type": "markdown",
   "id": "8f59172a-6fd2-4da1-b2f0-d608d6f988af",
   "metadata": {},
   "source": [
    "#### 8. Declare a variable named price and assign the value 9.99 to it. What data type does this variable belong to?"
   ]
  },
  {
   "cell_type": "code",
   "execution_count": 2,
   "id": "38251e5c-7296-4a58-999e-4daa7b497c75",
   "metadata": {},
   "outputs": [
    {
     "data": {
      "text/plain": [
       "float"
      ]
     },
     "execution_count": 2,
     "metadata": {},
     "output_type": "execute_result"
    }
   ],
   "source": [
    "price= 9.99\n",
    "type(price)"
   ]
  },
  {
   "cell_type": "markdown",
   "id": "3f1d0e08-56f9-46af-9525-fdd8e478507a",
   "metadata": {},
   "source": [
    "#### 9. Create a variable named name and assign your full name to it as a string. How would you print the value of this variable?"
   ]
  },
  {
   "cell_type": "code",
   "execution_count": 3,
   "id": "4fa0b283-6852-499e-9b11-6fbae4ba844b",
   "metadata": {},
   "outputs": [
    {
     "name": "stdout",
     "output_type": "stream",
     "text": [
      "Harshit\n"
     ]
    }
   ],
   "source": [
    "name= 'Harshit'\n",
    "print(name)"
   ]
  },
  {
   "cell_type": "markdown",
   "id": "11d964e4-196d-49a7-b069-a5895a781a9e",
   "metadata": {},
   "source": [
    "#### 10. Given the string \"Hello, World!\", extract the substring \"World\"."
   ]
  },
  {
   "cell_type": "code",
   "execution_count": 4,
   "id": "7377643d-7e52-4f80-9fdc-eba3652ad8dc",
   "metadata": {},
   "outputs": [
    {
     "name": "stdout",
     "output_type": "stream",
     "text": [
      "World\n"
     ]
    }
   ],
   "source": [
    "a= \"Hello, World\"\n",
    "b= a[7:12]\n",
    "print(b)"
   ]
  },
  {
   "cell_type": "markdown",
   "id": "ed4cdcf6-3db8-44d8-9ef5-d21a04b146e4",
   "metadata": {},
   "source": [
    "#### 11. Create a variable named \"is_student\" and assign it a boolean value indicating whether you are currently a student or not."
   ]
  },
  {
   "cell_type": "raw",
   "id": "909c4e58-662b-4dfc-80c7-9b20d2248a2e",
   "metadata": {},
   "source": [
    "Ans: is_student= True\n",
    "         (or)\n",
    "     is_student= False    "
   ]
  }
 ],
 "metadata": {
  "kernelspec": {
   "display_name": "Python 3 (ipykernel)",
   "language": "python",
   "name": "python3"
  },
  "language_info": {
   "codemirror_mode": {
    "name": "ipython",
    "version": 3
   },
   "file_extension": ".py",
   "mimetype": "text/x-python",
   "name": "python",
   "nbconvert_exporter": "python",
   "pygments_lexer": "ipython3",
   "version": "3.10.8"
  }
 },
 "nbformat": 4,
 "nbformat_minor": 5
}
